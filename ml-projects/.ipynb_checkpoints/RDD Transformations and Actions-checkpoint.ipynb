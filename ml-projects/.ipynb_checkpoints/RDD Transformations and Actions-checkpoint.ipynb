{
 "cells": [
  {
   "cell_type": "markdown",
   "id": "dc62bfd4-0be0-4b06-924b-bc8663fcc2ba",
   "metadata": {},
   "source": [
    "## RDD Transformations and Actions"
   ]
  },
  {
   "cell_type": "code",
   "execution_count": 2,
   "id": "aa2f9623-3c26-44d0-bce6-cb3026719bac",
   "metadata": {},
   "outputs": [],
   "source": [
    "from pyspark import SparkContext"
   ]
  },
  {
   "cell_type": "code",
   "execution_count": 7,
   "id": "c97de213-a7d1-49ee-aee0-fac5f5306e18",
   "metadata": {},
   "outputs": [
    {
     "name": "stderr",
     "output_type": "stream",
     "text": [
      "25/01/02 15:37:51 WARN Utils: Service 'SparkUI' could not bind on port 4040. Attempting port 4041.\n"
     ]
    }
   ],
   "source": [
    "sc = SparkContext()"
   ]
  },
  {
   "cell_type": "code",
   "execution_count": 47,
   "id": "27fde155-6154-46ea-bb11-19741925bde1",
   "metadata": {},
   "outputs": [],
   "source": [
    "ex2 = '../data/example2.txt'"
   ]
  },
  {
   "cell_type": "code",
   "execution_count": 48,
   "id": "b9e9a5ff-5d00-49bb-91ab-e42e0d4dcdb4",
   "metadata": {},
   "outputs": [
    {
     "data": {
      "text/plain": [
       "../data/example2.txt MapPartitionsRDD[26] at textFile at NativeMethodAccessorImpl.java:0"
      ]
     },
     "execution_count": 48,
     "metadata": {},
     "output_type": "execute_result"
    }
   ],
   "source": [
    "sc.textFile(ex2)"
   ]
  },
  {
   "cell_type": "code",
   "execution_count": 49,
   "id": "b0280482-22b8-4c5f-9f5f-1d2242412448",
   "metadata": {},
   "outputs": [],
   "source": [
    "text_rdd = sc.textFile(ex2)"
   ]
  },
  {
   "cell_type": "code",
   "execution_count": 32,
   "id": "4b76a017-2fc6-498d-9763-c220b99a3c6e",
   "metadata": {},
   "outputs": [],
   "source": [
    "words = text_rdd.map(lambda line: line.split())"
   ]
  },
  {
   "cell_type": "code",
   "execution_count": 33,
   "id": "c91516aa-0fc7-4e2f-9fb1-e2335f5a9ef5",
   "metadata": {},
   "outputs": [
    {
     "data": {
      "text/plain": [
       "[['first'],\n",
       " ['second', 'line'],\n",
       " ['then', 'third', 'line'],\n",
       " ['then', 'a', 'fourth', 'line', 'write', 'that', 'here']]"
      ]
     },
     "execution_count": 33,
     "metadata": {},
     "output_type": "execute_result"
    }
   ],
   "source": [
    "words.collect()"
   ]
  },
  {
   "cell_type": "code",
   "execution_count": 34,
   "id": "eb93cb46-e244-486c-ad90-0dd1f3bbc72a",
   "metadata": {},
   "outputs": [
    {
     "data": {
      "text/plain": [
       "['first',\n",
       " 'second line',\n",
       " 'then third line',\n",
       " 'then a fourth line write that here ']"
      ]
     },
     "execution_count": 34,
     "metadata": {},
     "output_type": "execute_result"
    }
   ],
   "source": [
    "text_rdd.collect()"
   ]
  },
  {
   "cell_type": "code",
   "execution_count": 36,
   "id": "d571e5e2-5dde-41e1-a684-9592c47f38bb",
   "metadata": {},
   "outputs": [],
   "source": [
    "flat_text = text_rdd.flatMap(lambda line: line.split()).collect"
   ]
  },
  {
   "cell_type": "code",
   "execution_count": 40,
   "id": "e84e962a-0f49-454d-8207-7fa22ba17675",
   "metadata": {},
   "outputs": [],
   "source": [
    "services = '../data/services.txt'"
   ]
  },
  {
   "cell_type": "code",
   "execution_count": 41,
   "id": "8440877e-5505-4930-a228-a57d100aa68f",
   "metadata": {},
   "outputs": [],
   "source": [
    "services = sc.textFile(services)"
   ]
  },
  {
   "cell_type": "code",
   "execution_count": 42,
   "id": "78d67b24-0aaf-4f66-8149-8c4296a03628",
   "metadata": {},
   "outputs": [
    {
     "data": {
      "text/plain": [
       "['#EventId    Timestamp    Customer   State    ServiceID    Amount',\n",
       " '201       10/13/2017      100       NY       131          100.00']"
      ]
     },
     "execution_count": 42,
     "metadata": {},
     "output_type": "execute_result"
    }
   ],
   "source": [
    "services.take(2)"
   ]
  },
  {
   "cell_type": "code",
   "execution_count": 44,
   "id": "29c32d4f-8f2d-4d46-8480-80698f44d990",
   "metadata": {},
   "outputs": [
    {
     "data": {
      "text/plain": [
       "[['#EventId', 'Timestamp', 'Customer', 'State', 'ServiceID', 'Amount'],\n",
       " ['201', '10/13/2017', '100', 'NY', '131', '100.00'],\n",
       " ['204', '10/18/2017', '700', 'TX', '129', '450.00']]"
      ]
     },
     "execution_count": 44,
     "metadata": {},
     "output_type": "execute_result"
    }
   ],
   "source": [
    "services.map(lambda x: x.split()).take(3)"
   ]
  },
  {
   "cell_type": "code",
   "execution_count": 45,
   "id": "31101e07-5202-43fa-9a81-d61cd5285b2b",
   "metadata": {},
   "outputs": [
    {
     "data": {
      "text/plain": [
       "['EventId    Timestamp    Customer   State    ServiceID    Amount',\n",
       " '201       10/13/2017      100       NY       131          100.00',\n",
       " '204       10/18/2017      700       TX       129          450.00',\n",
       " '202       10/15/2017      203       CA       121          200.00',\n",
       " '206       10/19/2017      202       CA       131          500.00',\n",
       " '203       10/17/2017      101       NY       173          750.00',\n",
       " '205       10/19/2017      202       TX       121          200.00']"
      ]
     },
     "execution_count": 45,
     "metadata": {},
     "output_type": "execute_result"
    }
   ],
   "source": [
    "services.map(lambda x: x[1:] if x[0]=='#' else x).collect()"
   ]
  },
  {
   "cell_type": "code",
   "execution_count": 50,
   "id": "65627396-1d91-48de-bc91-e6de02d448dc",
   "metadata": {},
   "outputs": [],
   "source": [
    "clean = services.map(lambda x: x[1:] if x[0]=='#' else x)"
   ]
  },
  {
   "cell_type": "code",
   "execution_count": 51,
   "id": "28746dc7-1679-4a17-ba57-367d8f05448a",
   "metadata": {},
   "outputs": [],
   "source": [
    "clean = clean.map(lambda x: x.split())"
   ]
  },
  {
   "cell_type": "code",
   "execution_count": 52,
   "id": "d713ff94-1389-4367-9d38-bf794d05cd3a",
   "metadata": {},
   "outputs": [
    {
     "data": {
      "text/plain": [
       "[['EventId', 'Timestamp', 'Customer', 'State', 'ServiceID', 'Amount'],\n",
       " ['201', '10/13/2017', '100', 'NY', '131', '100.00'],\n",
       " ['204', '10/18/2017', '700', 'TX', '129', '450.00'],\n",
       " ['202', '10/15/2017', '203', 'CA', '121', '200.00'],\n",
       " ['206', '10/19/2017', '202', 'CA', '131', '500.00'],\n",
       " ['203', '10/17/2017', '101', 'NY', '173', '750.00'],\n",
       " ['205', '10/19/2017', '202', 'TX', '121', '200.00']]"
      ]
     },
     "execution_count": 52,
     "metadata": {},
     "output_type": "execute_result"
    }
   ],
   "source": [
    "clean.collect()"
   ]
  },
  {
   "cell_type": "code",
   "execution_count": 62,
   "id": "84bee3d4-7aaf-487f-b25d-1cc4a688ddd1",
   "metadata": {},
   "outputs": [],
   "source": [
    "pairs = clean.map(lambda x: (x[3], x[-1]))"
   ]
  },
  {
   "cell_type": "code",
   "execution_count": 79,
   "id": "6e6a7b55-05a1-4863-aa70-e30170001c72",
   "metadata": {},
   "outputs": [
    {
     "data": {
      "text/plain": [
       "[('State', 'Amount'),\n",
       " ('NY', '100.00'),\n",
       " ('TX', '450.00'),\n",
       " ('CA', '200.00'),\n",
       " ('CA', '500.00'),\n",
       " ('NY', '750.00'),\n",
       " ('TX', '200.00')]"
      ]
     },
     "execution_count": 79,
     "metadata": {},
     "output_type": "execute_result"
    }
   ],
   "source": [
    "pairs.collect()"
   ]
  },
  {
   "cell_type": "code",
   "execution_count": 80,
   "id": "9a6fdafd-1b19-4a7f-8a7f-0a579fbf0e69",
   "metadata": {},
   "outputs": [],
   "source": [
    "rekey = pairs.reduceByKey(lambda amt1,amt2: float(amt1) + float(amt2))"
   ]
  },
  {
   "cell_type": "code",
   "execution_count": 81,
   "id": "c98f46ef-8f5f-4749-98e1-93a6c3be678d",
   "metadata": {},
   "outputs": [
    {
     "data": {
      "text/plain": [
       "[('State', 'Amount'), ('NY', 850.0), ('TX', 650.0), ('CA', 700.0)]"
      ]
     },
     "execution_count": 81,
     "metadata": {},
     "output_type": "execute_result"
    }
   ],
   "source": [
    "rekey.collect()"
   ]
  },
  {
   "cell_type": "code",
   "execution_count": 68,
   "id": "59b5334d-82ea-463d-87fc-7e92c59be4e1",
   "metadata": {},
   "outputs": [
    {
     "data": {
      "text/plain": [
       "[['EventId', 'Timestamp', 'Customer', 'State', 'ServiceID', 'Amount'],\n",
       " ['201', '10/13/2017', '100', 'NY', '131', '100.00'],\n",
       " ['204', '10/18/2017', '700', 'TX', '129', '450.00'],\n",
       " ['202', '10/15/2017', '203', 'CA', '121', '200.00'],\n",
       " ['206', '10/19/2017', '202', 'CA', '131', '500.00'],\n",
       " ['203', '10/17/2017', '101', 'NY', '173', '750.00'],\n",
       " ['205', '10/19/2017', '202', 'TX', '121', '200.00']]"
      ]
     },
     "execution_count": 68,
     "metadata": {},
     "output_type": "execute_result"
    }
   ],
   "source": [
    "clean.collect()"
   ]
  },
  {
   "cell_type": "code",
   "execution_count": 70,
   "id": "8e30579b-bd7c-455e-b9f4-6b385b6e4bb3",
   "metadata": {},
   "outputs": [],
   "source": [
    "step1 = clean.map(lambda lst: (lst[3], lst[-1]))"
   ]
  },
  {
   "cell_type": "code",
   "execution_count": 71,
   "id": "5a0cae1e-bb9d-4362-a8b0-b67bb8b20bb7",
   "metadata": {},
   "outputs": [],
   "source": [
    "step2 = step1.reduceByKey(lambda amt1, amt2: float(amt1) + float(amt2))"
   ]
  },
  {
   "cell_type": "code",
   "execution_count": 72,
   "id": "e2120f2a-2923-4480-842c-f9014ad0a893",
   "metadata": {},
   "outputs": [],
   "source": [
    "step3 = step2.filter(lambda x: not x[0]=='State')"
   ]
  },
  {
   "cell_type": "code",
   "execution_count": 73,
   "id": "f599b1a4-fa22-43b3-93c4-defe2268c817",
   "metadata": {},
   "outputs": [],
   "source": [
    "step4 = step3.sortBy(lambda stAmount: stAmount[1], ascending=False)"
   ]
  },
  {
   "cell_type": "code",
   "execution_count": 74,
   "id": "07d6e97c-bae4-4c4b-a956-745d3849aeb3",
   "metadata": {},
   "outputs": [
    {
     "data": {
      "text/plain": [
       "[('NY', 850.0), ('CA', 700.0), ('TX', 650.0)]"
      ]
     },
     "execution_count": 74,
     "metadata": {},
     "output_type": "execute_result"
    }
   ],
   "source": [
    "step4.collect()"
   ]
  },
  {
   "cell_type": "code",
   "execution_count": 82,
   "id": "c79a6298-c84f-48d0-b6b6-37659578bc4d",
   "metadata": {},
   "outputs": [],
   "source": [
    "x = ['ID', 'State', 'Amount']"
   ]
  },
  {
   "cell_type": "code",
   "execution_count": 83,
   "id": "13357254-c7a7-4bb1-8427-97023989a922",
   "metadata": {},
   "outputs": [],
   "source": [
    "def func1(lst):\n",
    "    return lst[-1]"
   ]
  },
  {
   "cell_type": "code",
   "execution_count": null,
   "id": "0b602d71-ef4d-4336-9c24-a43e081b348f",
   "metadata": {},
   "outputs": [],
   "source": [
    "def func2(id_st_amt):\n",
    "    (Id,st,amt) = id_st_amt\n",
    "    return amt"
   ]
  }
 ],
 "metadata": {
  "kernelspec": {
   "display_name": "Python 3 (ipykernel)",
   "language": "python",
   "name": "python3"
  },
  "language_info": {
   "codemirror_mode": {
    "name": "ipython",
    "version": 3
   },
   "file_extension": ".py",
   "mimetype": "text/x-python",
   "name": "python",
   "nbconvert_exporter": "python",
   "pygments_lexer": "ipython3",
   "version": "3.9.21"
  }
 },
 "nbformat": 4,
 "nbformat_minor": 5
}
