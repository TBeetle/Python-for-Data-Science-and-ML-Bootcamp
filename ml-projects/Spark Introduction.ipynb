{
 "cells": [
  {
   "cell_type": "markdown",
   "id": "a69ef152-6c64-493a-a86e-6852e43c35fe",
   "metadata": {},
   "source": [
    "## Introduction to Spark and Python"
   ]
  },
  {
   "cell_type": "code",
   "execution_count": 17,
   "id": "bf10b852-5ae7-448e-8229-14596c537af6",
   "metadata": {},
   "outputs": [],
   "source": [
    "from pyspark import SparkContext"
   ]
  },
  {
   "cell_type": "code",
   "execution_count": 21,
   "id": "b8b67aa7-83e7-4a3b-bd1a-50996729ea07",
   "metadata": {},
   "outputs": [],
   "source": [
    "sc = SparkContext()"
   ]
  },
  {
   "cell_type": "code",
   "execution_count": 22,
   "id": "805b2916-da15-4e43-acbe-683f469814eb",
   "metadata": {},
   "outputs": [
    {
     "name": "stdout",
     "output_type": "stream",
     "text": [
      "Overwriting example.txt\n"
     ]
    }
   ],
   "source": [
    "%%writefile example.txt\n",
    "first line\n",
    "second line\n",
    "third line\n",
    "fourth line"
   ]
  },
  {
   "cell_type": "code",
   "execution_count": 23,
   "id": "86137135-9227-4f12-abf0-428cb2defa11",
   "metadata": {},
   "outputs": [],
   "source": [
    "textFile = sc.textFile('../data/example.txt')"
   ]
  },
  {
   "cell_type": "code",
   "execution_count": 24,
   "id": "4e296fb2-f87b-4b44-91e8-bfc565571ff1",
   "metadata": {},
   "outputs": [
    {
     "name": "stderr",
     "output_type": "stream",
     "text": [
      "                                                                                "
     ]
    },
    {
     "data": {
      "text/plain": [
       "4"
      ]
     },
     "execution_count": 24,
     "metadata": {},
     "output_type": "execute_result"
    }
   ],
   "source": [
    "textFile.count()"
   ]
  },
  {
   "cell_type": "code",
   "execution_count": 25,
   "id": "434eb628-2f87-44bb-bf62-7e1a6a8ad79c",
   "metadata": {},
   "outputs": [
    {
     "data": {
      "text/plain": [
       "'first line'"
      ]
     },
     "execution_count": 25,
     "metadata": {},
     "output_type": "execute_result"
    }
   ],
   "source": [
    "textFile.first()"
   ]
  },
  {
   "cell_type": "code",
   "execution_count": 26,
   "id": "f09525cc-7dc3-41bf-83bf-f49166af2dc6",
   "metadata": {},
   "outputs": [],
   "source": [
    "secfind = textFile.filter(lambda x: 'second' in x)"
   ]
  },
  {
   "cell_type": "code",
   "execution_count": 27,
   "id": "191fbc0d-507d-41f4-8d68-eb6901c352af",
   "metadata": {},
   "outputs": [
    {
     "data": {
      "text/plain": [
       "PythonRDD[4] at RDD at PythonRDD.scala:53"
      ]
     },
     "execution_count": 27,
     "metadata": {},
     "output_type": "execute_result"
    }
   ],
   "source": [
    "secfind"
   ]
  },
  {
   "cell_type": "code",
   "execution_count": 28,
   "id": "3a6f58e2-00b6-49cf-aa20-fc82f769d0bc",
   "metadata": {},
   "outputs": [
    {
     "data": {
      "text/plain": [
       "['second line']"
      ]
     },
     "execution_count": 28,
     "metadata": {},
     "output_type": "execute_result"
    }
   ],
   "source": [
    "secfind.collect()"
   ]
  },
  {
   "cell_type": "code",
   "execution_count": 29,
   "id": "2bd1f9fb-bac2-4275-a1e7-fbe39800e05b",
   "metadata": {},
   "outputs": [
    {
     "data": {
      "text/plain": [
       "1"
      ]
     },
     "execution_count": 29,
     "metadata": {},
     "output_type": "execute_result"
    }
   ],
   "source": [
    "secfind.count()"
   ]
  }
 ],
 "metadata": {
  "kernelspec": {
   "display_name": "Python 3 (ipykernel)",
   "language": "python",
   "name": "python3"
  },
  "language_info": {
   "codemirror_mode": {
    "name": "ipython",
    "version": 3
   },
   "file_extension": ".py",
   "mimetype": "text/x-python",
   "name": "python",
   "nbconvert_exporter": "python",
   "pygments_lexer": "ipython3",
   "version": "3.9.21"
  }
 },
 "nbformat": 4,
 "nbformat_minor": 5
}
